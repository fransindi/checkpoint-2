{
 "cells": [
  {
   "attachments": {},
   "cell_type": "markdown",
   "metadata": {},
   "source": [
    "- 1 Verdadero\n",
    "- 2 Falso\n",
    "- 3 = 1\n",
    "- 4 = 3\n",
    "- 5 = 2\n",
    "- 6 = 0.00073\n",
    "- 7 = 7\n"
   ]
  },
  {
   "cell_type": "code",
   "execution_count": 4,
   "metadata": {},
   "outputs": [
    {
     "name": "stdout",
     "output_type": "stream",
     "text": [
      "0.02702702702702703\n"
     ]
    }
   ],
   "source": [
    "# punto 6\n",
    "print(1/37)"
   ]
  },
  {
   "cell_type": "code",
   "execution_count": 12,
   "metadata": {},
   "outputs": [
    {
     "name": "stdout",
     "output_type": "stream",
     "text": [
      "7.0\n"
     ]
    }
   ],
   "source": [
    "#punto 7 \n",
    "lista = []\n",
    "for i in range(1,7):\n",
    "    for j in range(1,7):\n",
    "        lista.append([i,j])\n",
    "newList = []\n",
    "for arr in lista:\n",
    "     newList.append(sum(arr))\n",
    "print(sum(newList) / len(newList))"
   ]
  },
  {
   "cell_type": "code",
   "execution_count": 17,
   "metadata": {},
   "outputs": [
    {
     "name": "stdout",
     "output_type": "stream",
     "text": [
      "0.42857142857142855\n"
     ]
    }
   ],
   "source": [
    "#punto 8\n",
    "blancas = 4/8\n",
    "negras = 4/8\n",
    "print((blancas * 3/7) * 2)"
   ]
  },
  {
   "cell_type": "code",
   "execution_count": 32,
   "metadata": {},
   "outputs": [],
   "source": [
    "\n",
    "from math import e, factorial\n",
    "\n",
    "    \n",
    "def binomial(k, n, p):\n",
    "    num_exitos = factorial(n)\n",
    "    num_eventos = factorial(k) * factorial(n - k)\n",
    "    exitos_fracasos = pow(p, k) * pow(1-p, (n-k))\n",
    "    binomial = (num_exitos / num_eventos) * exitos_fracasos\n",
    "    return binomial\n",
    "def distribucionPoisson(lambda_np, x):\n",
    "    probabilidad = (pow(e, -lambda_np) * pow(lambda_np, x)) / factorial(x)\n",
    "    return probabilidad\n",
    "\n",
    "def probabilidad_hipergeometrica(N,X,n,x):\n",
    "  Xx = factorial(X)/(factorial(x)*factorial(X-x))\n",
    "  NX_nx= factorial(N-X)/(factorial(n-x)*factorial((N-X)-(n-x)))\n",
    "  Nn = factorial(N)/(factorial(n)*factorial(N-n))\n",
    "  hipergeometrica = (Xx * NX_nx)/Nn\n",
    "\n",
    "  return hipergeometrica"
   ]
  },
  {
   "cell_type": "code",
   "execution_count": 33,
   "metadata": {},
   "outputs": [
    {
     "data": {
      "text/plain": [
       "0.22404180765538778"
      ]
     },
     "execution_count": 33,
     "metadata": {},
     "output_type": "execute_result"
    }
   ],
   "source": [
    "#punto 9\n",
    "distribucionPoisson(3, 2)"
   ]
  }
 ],
 "metadata": {
  "kernelspec": {
   "display_name": "Python 3",
   "language": "python",
   "name": "python3"
  },
  "language_info": {
   "codemirror_mode": {
    "name": "ipython",
    "version": 3
   },
   "file_extension": ".py",
   "mimetype": "text/x-python",
   "name": "python",
   "nbconvert_exporter": "python",
   "pygments_lexer": "ipython3",
   "version": "3.11.1"
  },
  "orig_nbformat": 4
 },
 "nbformat": 4,
 "nbformat_minor": 2
}
